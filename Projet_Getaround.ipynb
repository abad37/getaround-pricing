{
 "cells": [
  {
   "cell_type": "code",
   "execution_count": 1,
   "id": "22a6efb7",
   "metadata": {},
   "outputs": [],
   "source": [
    "import pandas as pd\n",
    "import numpy as np\n",
    "import matplotlib.pyplot as plt\n",
    "import seaborn as sns\n",
    "from datetime import datetime, timedelta"
   ]
  },
  {
   "cell_type": "code",
   "execution_count": 2,
   "id": "d50869e0",
   "metadata": {},
   "outputs": [
    {
     "data": {
      "text/html": [
       "<div>\n",
       "<style scoped>\n",
       "    .dataframe tbody tr th:only-of-type {\n",
       "        vertical-align: middle;\n",
       "    }\n",
       "\n",
       "    .dataframe tbody tr th {\n",
       "        vertical-align: top;\n",
       "    }\n",
       "\n",
       "    .dataframe thead th {\n",
       "        text-align: right;\n",
       "    }\n",
       "</style>\n",
       "<table border=\"1\" class=\"dataframe\">\n",
       "  <thead>\n",
       "    <tr style=\"text-align: right;\">\n",
       "      <th></th>\n",
       "      <th>rental_id</th>\n",
       "      <th>car_id</th>\n",
       "      <th>checkin_type</th>\n",
       "      <th>state</th>\n",
       "      <th>delay_at_checkout_in_minutes</th>\n",
       "      <th>previous_ended_rental_id</th>\n",
       "      <th>time_delta_with_previous_rental_in_minutes</th>\n",
       "    </tr>\n",
       "  </thead>\n",
       "  <tbody>\n",
       "    <tr>\n",
       "      <th>0</th>\n",
       "      <td>505000</td>\n",
       "      <td>363965</td>\n",
       "      <td>mobile</td>\n",
       "      <td>canceled</td>\n",
       "      <td>NaN</td>\n",
       "      <td>NaN</td>\n",
       "      <td>NaN</td>\n",
       "    </tr>\n",
       "    <tr>\n",
       "      <th>1</th>\n",
       "      <td>507750</td>\n",
       "      <td>269550</td>\n",
       "      <td>mobile</td>\n",
       "      <td>ended</td>\n",
       "      <td>-81.0</td>\n",
       "      <td>NaN</td>\n",
       "      <td>NaN</td>\n",
       "    </tr>\n",
       "    <tr>\n",
       "      <th>2</th>\n",
       "      <td>508131</td>\n",
       "      <td>359049</td>\n",
       "      <td>connect</td>\n",
       "      <td>ended</td>\n",
       "      <td>70.0</td>\n",
       "      <td>NaN</td>\n",
       "      <td>NaN</td>\n",
       "    </tr>\n",
       "    <tr>\n",
       "      <th>3</th>\n",
       "      <td>508865</td>\n",
       "      <td>299063</td>\n",
       "      <td>connect</td>\n",
       "      <td>canceled</td>\n",
       "      <td>NaN</td>\n",
       "      <td>NaN</td>\n",
       "      <td>NaN</td>\n",
       "    </tr>\n",
       "    <tr>\n",
       "      <th>4</th>\n",
       "      <td>511440</td>\n",
       "      <td>313932</td>\n",
       "      <td>mobile</td>\n",
       "      <td>ended</td>\n",
       "      <td>NaN</td>\n",
       "      <td>NaN</td>\n",
       "      <td>NaN</td>\n",
       "    </tr>\n",
       "  </tbody>\n",
       "</table>\n",
       "</div>"
      ],
      "text/plain": [
       "   rental_id  car_id checkin_type     state  delay_at_checkout_in_minutes  \\\n",
       "0     505000  363965       mobile  canceled                           NaN   \n",
       "1     507750  269550       mobile     ended                         -81.0   \n",
       "2     508131  359049      connect     ended                          70.0   \n",
       "3     508865  299063      connect  canceled                           NaN   \n",
       "4     511440  313932       mobile     ended                           NaN   \n",
       "\n",
       "   previous_ended_rental_id  time_delta_with_previous_rental_in_minutes  \n",
       "0                       NaN                                         NaN  \n",
       "1                       NaN                                         NaN  \n",
       "2                       NaN                                         NaN  \n",
       "3                       NaN                                         NaN  \n",
       "4                       NaN                                         NaN  "
      ]
     },
     "execution_count": 2,
     "metadata": {},
     "output_type": "execute_result"
    }
   ],
   "source": [
    "df = pd.read_excel(\"get_around_delay_analysis.xlsx\")\n",
    "df.head()"
   ]
  },
  {
   "cell_type": "markdown",
   "id": "261db3d8",
   "metadata": {},
   "source": [
    "### Data Cleaning"
   ]
  },
  {
   "cell_type": "code",
   "execution_count": 4,
   "id": "143cd8a7",
   "metadata": {},
   "outputs": [
    {
     "name": "stdout",
     "output_type": "stream",
     "text": [
      "rental_id                                         0\n",
      "car_id                                            0\n",
      "checkin_type                                      0\n",
      "state                                             0\n",
      "delay_at_checkout_in_minutes                   4964\n",
      "previous_ended_rental_id                      19469\n",
      "time_delta_with_previous_rental_in_minutes    19469\n",
      "dtype: int64\n"
     ]
    }
   ],
   "source": [
    "print(df.isnull().sum())"
   ]
  },
  {
   "cell_type": "code",
   "execution_count": 5,
   "id": "55acb461",
   "metadata": {},
   "outputs": [],
   "source": [
    "if 'delay_at_checkout_in_minutes' in df.columns:\n",
    "    df['delay_at_checkout_in_minutes'] = df['delay_at_checkout_in_minutes'].fillna(0)"
   ]
  },
  {
   "cell_type": "code",
   "execution_count": 6,
   "id": "53be6a48",
   "metadata": {},
   "outputs": [],
   "source": [
    "if 'time_delta_with_previous_rental_in_minutes' in df.columns:\n",
    "    df['time_delta_with_previous_rental_in_minutes'] = df['time_delta_with_previous_rental_in_minutes'].fillna(999999)"
   ]
  },
  {
   "cell_type": "code",
   "execution_count": 7,
   "id": "2c02b213",
   "metadata": {},
   "outputs": [
    {
     "data": {
      "image/png": "[encoded data removed]",
      "text/plain": [
       "<Figure size 800x500 with 1 Axes>"
      ]
     },
     "metadata": {},
     "output_type": "display_data"
    },
    {
     "data": {
      "image/png": "[encoded data removed]",
      "text/plain": [
       "<Figure size 640x480 with 1 Axes>"
      ]
     },
     "metadata": {},
     "output_type": "display_data"
    }
   ],
   "source": [
    "plt.figure(figsize=(8,5))\n",
    "sns.histplot(df['delay_at_checkout_in_minutes'], bins=50, kde=True)\n",
    "plt.title(\"Distribution des retards de restitution\")\n",
    "plt.xlabel(\"Retard (min)\")\n",
    "plt.show()\n",
    "\n",
    "sns.boxplot(data=df, x='checkin_type', y='delay_at_checkout_in_minutes')\n",
    "plt.title(\"Retards selon le type de checkin\")\n",
    "plt.show()"
   ]
  },
  {
   "cell_type": "code",
   "execution_count": 8,
   "id": "fba895dc",
   "metadata": {},
   "outputs": [
    {
     "data": {
      "text/html": [
       "<div>\n",
       "<style scoped>\n",
       "    .dataframe tbody tr th:only-of-type {\n",
       "        vertical-align: middle;\n",
       "    }\n",
       "\n",
       "    .dataframe tbody tr th {\n",
       "        vertical-align: top;\n",
       "    }\n",
       "\n",
       "    .dataframe thead th {\n",
       "        text-align: right;\n",
       "    }\n",
       "</style>\n",
       "<table border=\"1\" class=\"dataframe\">\n",
       "  <thead>\n",
       "    <tr style=\"text-align: right;\">\n",
       "      <th></th>\n",
       "      <th>threshold</th>\n",
       "      <th>conflicting_rentals</th>\n",
       "      <th>percentage</th>\n",
       "    </tr>\n",
       "  </thead>\n",
       "  <tbody>\n",
       "    <tr>\n",
       "      <th>0</th>\n",
       "      <td>30</td>\n",
       "      <td>279</td>\n",
       "      <td>1.31</td>\n",
       "    </tr>\n",
       "    <tr>\n",
       "      <th>1</th>\n",
       "      <td>60</td>\n",
       "      <td>401</td>\n",
       "      <td>1.88</td>\n",
       "    </tr>\n",
       "    <tr>\n",
       "      <th>2</th>\n",
       "      <td>90</td>\n",
       "      <td>584</td>\n",
       "      <td>2.74</td>\n",
       "    </tr>\n",
       "    <tr>\n",
       "      <th>3</th>\n",
       "      <td>120</td>\n",
       "      <td>666</td>\n",
       "      <td>3.13</td>\n",
       "    </tr>\n",
       "    <tr>\n",
       "      <th>4</th>\n",
       "      <td>180</td>\n",
       "      <td>870</td>\n",
       "      <td>4.08</td>\n",
       "    </tr>\n",
       "    <tr>\n",
       "      <th>5</th>\n",
       "      <td>240</td>\n",
       "      <td>1001</td>\n",
       "      <td>4.70</td>\n",
       "    </tr>\n",
       "  </tbody>\n",
       "</table>\n",
       "</div>"
      ],
      "text/plain": [
       "   threshold  conflicting_rentals  percentage\n",
       "0         30                  279        1.31\n",
       "1         60                  401        1.88\n",
       "2         90                  584        2.74\n",
       "3        120                  666        3.13\n",
       "4        180                  870        4.08\n",
       "5        240                 1001        4.70"
      ]
     },
     "execution_count": 8,
     "metadata": {},
     "output_type": "execute_result"
    }
   ],
   "source": [
    "thresholds = [30, 60, 90, 120, 180, 240]\n",
    "conflicts = []\n",
    "\n",
    "for t in thresholds:\n",
    "    df['conflict'] = df['time_delta_with_previous_rental_in_minutes'] < t\n",
    "    total_conflicts = df['conflict'].sum()\n",
    "    total = len(df)\n",
    "    conflicts.append({\"threshold\": t, \"conflicting_rentals\": total_conflicts, \"percentage\": round(total_conflicts / total * 100, 2)})\n",
    "\n",
    "pd.DataFrame(conflicts)"
   ]
  },
  {
   "cell_type": "markdown",
   "id": "3df5d98a",
   "metadata": {},
   "source": [
    "## Machine Learning - Optimisation des prix"
   ]
  },
  {
   "cell_type": "code",
   "execution_count": 42,
   "id": "7e8b03df",
   "metadata": {},
   "outputs": [],
   "source": [
    "import pandas as pd\n",
    "import numpy as np\n",
    "from sklearn.ensemble import RandomForestRegressor\n",
    "from sklearn.model_selection import train_test_split, GridSearchCV\n",
    "from sklearn.metrics import mean_squared_error, r2_score, mean_absolute_error\n",
    "from sklearn.linear_model import LinearRegression\n",
    "from sklearn.preprocessing import StandardScaler\n",
    "import matplotlib.pyplot as plt\n",
    "import seaborn as sns\n",
    "import joblib\n",
    "import warnings\n",
    "warnings.filterwarnings('ignore')"
   ]
  },
  {
   "cell_type": "code",
   "execution_count": 43,
   "id": "eb4bebc6",
   "metadata": {},
   "outputs": [],
   "source": [
    "data = pd.read_csv('get_around_pricing_project.csv')"
   ]
  },
  {
   "cell_type": "markdown",
   "id": "2869c062",
   "metadata": {},
   "source": [
    "### Exploration des données"
   ]
  },
  {
   "cell_type": "code",
   "execution_count": 48,
   "id": "9829b4a7",
   "metadata": {},
   "outputs": [
    {
     "data": {
      "text/plain": [
       "(4843, 15)"
      ]
     },
     "execution_count": 48,
     "metadata": {},
     "output_type": "execute_result"
    }
   ],
   "source": [
    "data.shape"
   ]
  },
  {
   "cell_type": "code",
   "execution_count": 49,
   "id": "12288609",
   "metadata": {},
   "outputs": [
    {
     "data": {
      "text/plain": [
       "Index(['Unnamed: 0', 'model_key', 'mileage', 'engine_power', 'fuel',\n",
       "       'paint_color', 'car_type', 'private_parking_available', 'has_gps',\n",
       "       'has_air_conditioning', 'automatic_car', 'has_getaround_connect',\n",
       "       'has_speed_regulator', 'winter_tires', 'rental_price_per_day'],\n",
       "      dtype='object')"
      ]
     },
     "execution_count": 49,
     "metadata": {},
     "output_type": "execute_result"
    }
   ],
   "source": [
    "data.columns"
   ]
  },
  {
   "cell_type": "code",
   "execution_count": 50,
   "id": "ceea464b",
   "metadata": {},
   "outputs": [
    {
     "data": {
      "text/html": [
       "<div>\n",
       "<style scoped>\n",
       "    .dataframe tbody tr th:only-of-type {\n",
       "        vertical-align: middle;\n",
       "    }\n",
       "\n",
       "    .dataframe tbody tr th {\n",
       "        vertical-align: top;\n",
       "    }\n",
       "\n",
       "    .dataframe thead th {\n",
       "        text-align: right;\n",
       "    }\n",
       "</style>\n",
       "<table border=\"1\" class=\"dataframe\">\n",
       "  <thead>\n",
       "    <tr style=\"text-align: right;\">\n",
       "      <th></th>\n",
       "      <th>Unnamed: 0</th>\n",
       "      <th>model_key</th>\n",
       "      <th>mileage</th>\n",
       "      <th>engine_power</th>\n",
       "      <th>fuel</th>\n",
       "      <th>paint_color</th>\n",
       "      <th>car_type</th>\n",
       "      <th>private_parking_available</th>\n",
       "      <th>has_gps</th>\n",
       "      <th>has_air_conditioning</th>\n",
       "      <th>automatic_car</th>\n",
       "      <th>has_getaround_connect</th>\n",
       "      <th>has_speed_regulator</th>\n",
       "      <th>winter_tires</th>\n",
       "      <th>rental_price_per_day</th>\n",
       "    </tr>\n",
       "  </thead>\n",
       "  <tbody>\n",
       "    <tr>\n",
       "      <th>0</th>\n",
       "      <td>0</td>\n",
       "      <td>Citroën</td>\n",
       "      <td>140411</td>\n",
       "      <td>100</td>\n",
       "      <td>diesel</td>\n",
       "      <td>black</td>\n",
       "      <td>convertible</td>\n",
       "      <td>True</td>\n",
       "      <td>True</td>\n",
       "      <td>False</td>\n",
       "      <td>False</td>\n",
       "      <td>True</td>\n",
       "      <td>True</td>\n",
       "      <td>True</td>\n",
       "      <td>106</td>\n",
       "    </tr>\n",
       "    <tr>\n",
       "      <th>1</th>\n",
       "      <td>1</td>\n",
       "      <td>Citroën</td>\n",
       "      <td>13929</td>\n",
       "      <td>317</td>\n",
       "      <td>petrol</td>\n",
       "      <td>grey</td>\n",
       "      <td>convertible</td>\n",
       "      <td>True</td>\n",
       "      <td>True</td>\n",
       "      <td>False</td>\n",
       "      <td>False</td>\n",
       "      <td>False</td>\n",
       "      <td>True</td>\n",
       "      <td>True</td>\n",
       "      <td>264</td>\n",
       "    </tr>\n",
       "    <tr>\n",
       "      <th>2</th>\n",
       "      <td>2</td>\n",
       "      <td>Citroën</td>\n",
       "      <td>183297</td>\n",
       "      <td>120</td>\n",
       "      <td>diesel</td>\n",
       "      <td>white</td>\n",
       "      <td>convertible</td>\n",
       "      <td>False</td>\n",
       "      <td>False</td>\n",
       "      <td>False</td>\n",
       "      <td>False</td>\n",
       "      <td>True</td>\n",
       "      <td>False</td>\n",
       "      <td>True</td>\n",
       "      <td>101</td>\n",
       "    </tr>\n",
       "    <tr>\n",
       "      <th>3</th>\n",
       "      <td>3</td>\n",
       "      <td>Citroën</td>\n",
       "      <td>128035</td>\n",
       "      <td>135</td>\n",
       "      <td>diesel</td>\n",
       "      <td>red</td>\n",
       "      <td>convertible</td>\n",
       "      <td>True</td>\n",
       "      <td>True</td>\n",
       "      <td>False</td>\n",
       "      <td>False</td>\n",
       "      <td>True</td>\n",
       "      <td>True</td>\n",
       "      <td>True</td>\n",
       "      <td>158</td>\n",
       "    </tr>\n",
       "    <tr>\n",
       "      <th>4</th>\n",
       "      <td>4</td>\n",
       "      <td>Citroën</td>\n",
       "      <td>97097</td>\n",
       "      <td>160</td>\n",
       "      <td>diesel</td>\n",
       "      <td>silver</td>\n",
       "      <td>convertible</td>\n",
       "      <td>True</td>\n",
       "      <td>True</td>\n",
       "      <td>False</td>\n",
       "      <td>False</td>\n",
       "      <td>False</td>\n",
       "      <td>True</td>\n",
       "      <td>True</td>\n",
       "      <td>183</td>\n",
       "    </tr>\n",
       "  </tbody>\n",
       "</table>\n",
       "</div>"
      ],
      "text/plain": [
       "   Unnamed: 0 model_key  mileage  engine_power    fuel paint_color  \\\n",
       "0           0   Citroën   140411           100  diesel       black   \n",
       "1           1   Citroën    13929           317  petrol        grey   \n",
       "2           2   Citroën   183297           120  diesel       white   \n",
       "3           3   Citroën   128035           135  diesel         red   \n",
       "4           4   Citroën    97097           160  diesel      silver   \n",
       "\n",
       "      car_type  private_parking_available  has_gps  has_air_conditioning  \\\n",
       "0  convertible                       True     True                 False   \n",
       "1  convertible                       True     True                 False   \n",
       "2  convertible                      False    False                 False   \n",
       "3  convertible                       True     True                 False   \n",
       "4  convertible                       True     True                 False   \n",
       "\n",
       "   automatic_car  has_getaround_connect  has_speed_regulator  winter_tires  \\\n",
       "0          False                   True                 True          True   \n",
       "1          False                  False                 True          True   \n",
       "2          False                   True                False          True   \n",
       "3          False                   True                 True          True   \n",
       "4          False                  False                 True          True   \n",
       "\n",
       "   rental_price_per_day  \n",
       "0                   106  \n",
       "1                   264  \n",
       "2                   101  \n",
       "3                   158  \n",
       "4                   183  "
      ]
     },
     "execution_count": 50,
     "metadata": {},
     "output_type": "execute_result"
    }
   ],
   "source": [
    "data.head()"
   ]
  },
  {
   "cell_type": "code",
   "execution_count": 52,
   "id": "f8816a24",
   "metadata": {},
   "outputs": [
    {
     "data": {
      "text/plain": [
       "Unnamed: 0                   0\n",
       "model_key                    0\n",
       "mileage                      0\n",
       "engine_power                 0\n",
       "fuel                         0\n",
       "paint_color                  0\n",
       "car_type                     0\n",
       "private_parking_available    0\n",
       "has_gps                      0\n",
       "has_air_conditioning         0\n",
       "automatic_car                0\n",
       "has_getaround_connect        0\n",
       "has_speed_regulator          0\n",
       "winter_tires                 0\n",
       "rental_price_per_day         0\n",
       "dtype: int64"
      ]
     },
     "execution_count": 52,
     "metadata": {},
     "output_type": "execute_result"
    }
   ],
   "source": [
    "data.isnull().sum()"
   ]
  },
  {
   "cell_type": "code",
   "execution_count": 53,
   "id": "bc9d752c",
   "metadata": {},
   "outputs": [
    {
     "data": {
      "text/plain": [
       "count    4843.000000\n",
       "mean      121.214536\n",
       "std        33.568268\n",
       "min        10.000000\n",
       "25%       104.000000\n",
       "50%       119.000000\n",
       "75%       136.000000\n",
       "max       422.000000\n",
       "Name: rental_price_per_day, dtype: float64"
      ]
     },
     "execution_count": 53,
     "metadata": {},
     "output_type": "execute_result"
    }
   ],
   "source": [
    "data['rental_price_per_day'].describe()"
   ]
  },
  {
   "cell_type": "markdown",
   "id": "cacf7d55",
   "metadata": {},
   "source": [
    "### Preprocessing"
   ]
  },
  {
   "cell_type": "code",
   "execution_count": 54,
   "id": "d187d450",
   "metadata": {},
   "outputs": [],
   "source": [
    "X = data.drop(columns=['rental_price_per_day'])\n",
    "y = data['rental_price_per_day']"
   ]
  },
  {
   "cell_type": "code",
   "execution_count": 55,
   "id": "3ca4713d",
   "metadata": {},
   "outputs": [],
   "source": [
    "if 'Unnamed: 0' in X.columns:\n",
    "    X = X.drop(columns=['Unnamed: 0'])"
   ]
  },
  {
   "cell_type": "code",
   "execution_count": 56,
   "id": "4135db57",
   "metadata": {},
   "outputs": [
    {
     "name": "stdout",
     "output_type": "stream",
     "text": [
      "Colonnes catégorielles à encoder: ['model_key', 'fuel', 'paint_color', 'car_type']\n"
     ]
    }
   ],
   "source": [
    "categorical_columns = X.select_dtypes(include=['object']).columns.tolist()\n",
    "print(f\"Colonnes catégorielles à encoder: {categorical_columns}\")"
   ]
  },
  {
   "cell_type": "code",
   "execution_count": 57,
   "id": "c4872a1b",
   "metadata": {},
   "outputs": [],
   "source": [
    "X_encoded = pd.get_dummies(X, columns=categorical_columns, drop_first=True)"
   ]
  },
  {
   "cell_type": "code",
   "execution_count": 58,
   "id": "75edb484",
   "metadata": {},
   "outputs": [
    {
     "name": "stdout",
     "output_type": "stream",
     "text": [
      "Shape après encodage: (4843, 55)\n",
      "Colonnes object restantes: []\n"
     ]
    }
   ],
   "source": [
    "print(f\"Shape après encodage: {X_encoded.shape}\")\n",
    "print(f\"Colonnes object restantes: {X_encoded.select_dtypes(include=['object']).columns.tolist()}\")"
   ]
  },
  {
   "cell_type": "code",
   "execution_count": 59,
   "id": "2452d26c",
   "metadata": {},
   "outputs": [
    {
     "name": "stdout",
     "output_type": "stream",
     "text": [
      "Taille du dataset d'entraînement: (3874, 55)\n",
      "Taille du dataset de test: (969, 55)\n"
     ]
    }
   ],
   "source": [
    "X_train, X_test, y_train, y_test = train_test_split(\n",
    "    X_encoded, y, test_size=0.2, random_state=42\n",
    ")\n",
    "\n",
    "print(f\"Taille du dataset d'entraînement: {X_train.shape}\")\n",
    "print(f\"Taille du dataset de test: {X_test.shape}\")"
   ]
  },
  {
   "cell_type": "markdown",
   "id": "67111fcd",
   "metadata": {},
   "source": [
    "### Entraînement des modèles "
   ]
  },
  {
   "cell_type": "code",
   "execution_count": null,
   "id": "4e03d3b5",
   "metadata": {},
   "outputs": [
    {
     "name": "stdout",
     "output_type": "stream",
     "text": [
      "\n",
      "📈 Linear Regression\n",
      "  R²: 0.6937\n",
      "  RMSE: 17.96€\n",
      "  MAE: 12.12€\n"
     ]
    }
   ],
   "source": [
    "# Dictionnaire pour stocker les résultats\n",
    "models_results = {}\n",
    "\n",
    "# LINEAR REGRESSION\n",
    "print(\"\\n📈 Linear Regression\")\n",
    "lr_model = LinearRegression()\n",
    "lr_model.fit(X_train, y_train)\n",
    "\n",
    "y_pred_lr = lr_model.predict(X_test)\n",
    "lr_r2 = r2_score(y_test, y_pred_lr)\n",
    "lr_rmse = np.sqrt(mean_squared_error(y_test, y_pred_lr))\n",
    "lr_mae = mean_absolute_error(y_test, y_pred_lr)\n",
    "\n",
    "models_results['Linear Regression'] = {\n",
    "    'model': lr_model,\n",
    "    'r2': lr_r2,\n",
    "    'rmse': lr_rmse,\n",
    "    'mae': lr_mae\n",
    "}\n",
    "\n",
    "print(f\"  R²: {lr_r2:.4f}\")\n",
    "print(f\"  RMSE: {lr_rmse:.2f}€\")\n",
    "print(f\"  MAE: {lr_mae:.2f}€\")"
   ]
  },
  {
   "cell_type": "code",
   "execution_count": 61,
   "id": "b89d7324",
   "metadata": {},
   "outputs": [
    {
     "name": "stdout",
     "output_type": "stream",
     "text": [
      "\n",
      "🌳 Random Forest (Simple)\n",
      "  R²: 0.7315\n",
      "  RMSE: 16.82€\n",
      "  MAE: 10.71€\n"
     ]
    }
   ],
   "source": [
    "# RANDOM FOREST (Simple)\n",
    "print(\"\\n🌳 Random Forest (Simple)\")\n",
    "rf_simple = RandomForestRegressor(\n",
    "    n_estimators=100,\n",
    "    random_state=42,\n",
    "    n_jobs=-1\n",
    ")\n",
    "rf_simple.fit(X_train, y_train)\n",
    "\n",
    "y_pred_rf_simple = rf_simple.predict(X_test)\n",
    "rf_simple_r2 = r2_score(y_test, y_pred_rf_simple)\n",
    "rf_simple_rmse = np.sqrt(mean_squared_error(y_test, y_pred_rf_simple))\n",
    "rf_simple_mae = mean_absolute_error(y_test, y_pred_rf_simple)\n",
    "\n",
    "models_results['Random Forest (Simple)'] = {\n",
    "    'model': rf_simple,\n",
    "    'r2': rf_simple_r2,\n",
    "    'rmse': rf_simple_rmse,\n",
    "    'mae': rf_simple_mae\n",
    "}\n",
    "\n",
    "print(f\"  R²: {rf_simple_r2:.4f}\")\n",
    "print(f\"  RMSE: {rf_simple_rmse:.2f}€\")\n",
    "print(f\"  MAE: {rf_simple_mae:.2f}€\")"
   ]
  },
  {
   "cell_type": "code",
   "execution_count": 63,
   "id": "080ca6fe",
   "metadata": {},
   "outputs": [
    {
     "name": "stdout",
     "output_type": "stream",
     "text": [
      "\n",
      "🔍 Random Forest (Optimisation des hyperparamètres)\n",
      "  Meilleurs paramètres: {'max_depth': 20, 'min_samples_leaf': 1, 'min_samples_split': 5, 'n_estimators': 200}\n",
      "  R²: 0.7333\n",
      "  RMSE: 16.76€\n",
      "  MAE: 10.66€\n"
     ]
    }
   ],
   "source": [
    "# RANDOM FOREST (Optimisé)\n",
    "print(\"\\n🔍 Random Forest (Optimisation des hyperparamètres)\")\n",
    "\n",
    "# Grille de paramètres plus légère pour éviter la surcharge\n",
    "param_grid = {\n",
    "    'n_estimators': [50, 100, 200],\n",
    "    'max_depth': [10, 20, None],\n",
    "    'min_samples_split': [2, 5],\n",
    "    'min_samples_leaf': [1, 2]\n",
    "}\n",
    "\n",
    "rf_grid = RandomForestRegressor(random_state=42, n_jobs=-1)\n",
    "grid_search = GridSearchCV(\n",
    "    rf_grid, \n",
    "    param_grid, \n",
    "    cv=3,  # Réduit pour accélérer\n",
    "    scoring='r2',\n",
    "    n_jobs=-1\n",
    ")\n",
    "\n",
    "grid_search.fit(X_train, y_train)\n",
    "rf_optimized = grid_search.best_estimator_\n",
    "\n",
    "y_pred_rf_opt = rf_optimized.predict(X_test)\n",
    "rf_opt_r2 = r2_score(y_test, y_pred_rf_opt)\n",
    "rf_opt_rmse = np.sqrt(mean_squared_error(y_test, y_pred_rf_opt))\n",
    "rf_opt_mae = mean_absolute_error(y_test, y_pred_rf_opt)\n",
    "\n",
    "models_results['Random Forest (Optimized)'] = {\n",
    "    'model': rf_optimized,\n",
    "    'r2': rf_opt_r2,\n",
    "    'rmse': rf_opt_rmse,\n",
    "    'mae': rf_opt_mae\n",
    "}\n",
    "\n",
    "print(f\"  Meilleurs paramètres: {grid_search.best_params_}\")\n",
    "print(f\"  R²: {rf_opt_r2:.4f}\")\n",
    "print(f\"  RMSE: {rf_opt_rmse:.2f}€\")\n",
    "print(f\"  MAE: {rf_opt_mae:.2f}€\")"
   ]
  },
  {
   "cell_type": "markdown",
   "id": "f408e04f",
   "metadata": {},
   "source": [
    "### Comparaison des modèles"
   ]
  },
  {
   "cell_type": "code",
   "execution_count": 64,
   "id": "315c240b",
   "metadata": {},
   "outputs": [
    {
     "name": "stdout",
     "output_type": "stream",
     "text": [
      "                       Model      R²     RMSE      MAE\n",
      "0          Linear Regression  0.6937  17.9605  12.1153\n",
      "1     Random Forest (Simple)  0.7315  16.8161  10.7101\n",
      "2  Random Forest (Optimized)  0.7333  16.7604  10.6572\n"
     ]
    }
   ],
   "source": [
    "# Créer un DataFrame de comparaison\n",
    "comparison_df = pd.DataFrame({\n",
    "    'Model': models_results.keys(),\n",
    "    'R²': [models_results[model]['r2'] for model in models_results.keys()],\n",
    "    'RMSE': [models_results[model]['rmse'] for model in models_results.keys()],\n",
    "    'MAE': [models_results[model]['mae'] for model in models_results.keys()]\n",
    "})\n",
    "\n",
    "print(comparison_df.round(4))"
   ]
  },
  {
   "cell_type": "code",
   "execution_count": 65,
   "id": "e79fd61f",
   "metadata": {},
   "outputs": [
    {
     "name": "stdout",
     "output_type": "stream",
     "text": [
      "\n",
      "🏆 Meilleur modèle: Random Forest (Optimized)\n",
      "   R²: 0.7333\n",
      "   RMSE: 16.76€\n",
      "   MAE: 10.66€\n"
     ]
    }
   ],
   "source": [
    "# Sélectionner le meilleur modèle\n",
    "best_model_name = comparison_df.loc[comparison_df['R²'].idxmax(), 'Model']\n",
    "best_model = models_results[best_model_name]['model']\n",
    "\n",
    "print(f\"\\n🏆 Meilleur modèle: {best_model_name}\")\n",
    "print(f\"   R²: {models_results[best_model_name]['r2']:.4f}\")\n",
    "print(f\"   RMSE: {models_results[best_model_name]['rmse']:.2f}€\")\n",
    "print(f\"   MAE: {models_results[best_model_name]['mae']:.2f}€\")"
   ]
  },
  {
   "cell_type": "markdown",
   "id": "78795a36",
   "metadata": {},
   "source": [
    "### Analyse des features importantes"
   ]
  },
  {
   "cell_type": "code",
   "execution_count": 66,
   "id": "332d9b1f",
   "metadata": {},
   "outputs": [
    {
     "name": "stdout",
     "output_type": "stream",
     "text": [
      "Top 10 des variables les plus importantes:\n",
      "                  feature  importance\n",
      "1            engine_power    0.446977\n",
      "0                 mileage    0.280883\n",
      "3                 has_gps    0.041901\n",
      "6   has_getaround_connect    0.028523\n",
      "53           car_type_suv    0.019151\n",
      "38            fuel_petrol    0.014231\n",
      "10          model_key_BMW    0.012803\n",
      "11      model_key_Citroën    0.011972\n",
      "23   model_key_Mitsubishi    0.011429\n",
      "5           automatic_car    0.010796\n"
     ]
    }
   ],
   "source": [
    "if 'Random Forest' in best_model_name:\n",
    "    feature_importance = pd.DataFrame({\n",
    "        'feature': X_encoded.columns,\n",
    "        'importance': best_model.feature_importances_\n",
    "    }).sort_values('importance', ascending=False)\n",
    "    \n",
    "    print(\"Top 10 des variables les plus importantes:\")\n",
    "    print(feature_importance.head(10))"
   ]
  },
  {
   "cell_type": "code",
   "execution_count": 68,
   "id": "e8e56d77",
   "metadata": {},
   "outputs": [
    {
     "data": {
      "image/png": "[encoded data removed]",
      "text/plain": [
       "<Figure size 1000x600 with 1 Axes>"
      ]
     },
     "metadata": {},
     "output_type": "display_data"
    }
   ],
   "source": [
    "plt.figure(figsize=(10, 6))\n",
    "sns.barplot(data=feature_importance.head(10), x='importance', y='feature')\n",
    "plt.title('🚗 GetAround - Top 10 Variables Importantes pour le Prix')\n",
    "plt.xlabel('Importance')\n",
    "plt.tight_layout()\n",
    "plt.show()"
   ]
  },
  {
   "cell_type": "markdown",
   "id": "d5413bbc",
   "metadata": {},
   "source": [
    "### Visualisation"
   ]
  },
  {
   "cell_type": "code",
   "execution_count": 70,
   "id": "340390b0",
   "metadata": {},
   "outputs": [
    {
     "data": {
      "text/plain": [
       "<Figure size 1500x500 with 0 Axes>"
      ]
     },
     "execution_count": 70,
     "metadata": {},
     "output_type": "execute_result"
    },
    {
     "data": {
      "text/plain": [
       "<Figure size 1500x500 with 0 Axes>"
      ]
     },
     "metadata": {},
     "output_type": "display_data"
    }
   ],
   "source": [
    "# Prédictions vs Réalité\n",
    "plt.figure(figsize=(15, 5))"
   ]
  },
  {
   "cell_type": "code",
   "execution_count": 71,
   "id": "7e1d0b8c",
   "metadata": {},
   "outputs": [
    {
     "data": {
      "text/plain": [
       "Text(0.5, 1.0, 'Random Forest (Optimized)\\n(R² = 0.733)')"
      ]
     },
     "execution_count": 71,
     "metadata": {},
     "output_type": "execute_result"
    },
    {
     "data": {
      "image/png": "[encoded data removed]",
      "text/plain": [
       "<Figure size 640x480 with 1 Axes>"
      ]
     },
     "metadata": {},
     "output_type": "display_data"
    }
   ],
   "source": [
    "# Subplot 1: Meilleur modèle\n",
    "plt.subplot(1, 3, 1)\n",
    "best_pred = best_model.predict(X_test)\n",
    "plt.scatter(y_test, best_pred, alpha=0.5, color='blue')\n",
    "plt.plot([y_test.min(), y_test.max()], [y_test.min(), y_test.max()], 'r--', lw=2)\n",
    "plt.xlabel('Prix réel (€/jour)')\n",
    "plt.ylabel('Prix prédit (€/jour)')\n",
    "plt.title(f'{best_model_name}\\n(R² = {models_results[best_model_name][\"r2\"]:.3f})')"
   ]
  },
  {
   "cell_type": "code",
   "execution_count": 72,
   "id": "0dd77693",
   "metadata": {},
   "outputs": [
    {
     "data": {
      "text/plain": [
       "Text(0.5, 1.0, 'Analyse des Résidus')"
      ]
     },
     "execution_count": 72,
     "metadata": {},
     "output_type": "execute_result"
    },
    {
     "data": {
      "image/png": "[encoded data removed]",
      "text/plain": [
       "<Figure size 640x480 with 1 Axes>"
      ]
     },
     "metadata": {},
     "output_type": "display_data"
    }
   ],
   "source": [
    "# Subplot 2: Résidus\n",
    "plt.subplot(1, 3, 2)\n",
    "residuals = y_test - best_pred\n",
    "plt.scatter(best_pred, residuals, alpha=0.5, color='red')\n",
    "plt.axhline(y=0, color='black', linestyle='--')\n",
    "plt.xlabel('Prix prédit (€/jour)')\n",
    "plt.ylabel('Résidus (€)')\n",
    "plt.title('Analyse des Résidus')"
   ]
  },
  {
   "cell_type": "code",
   "execution_count": 73,
   "id": "39ebffa9",
   "metadata": {},
   "outputs": [
    {
     "data": {
      "image/png": "[encoded data removed]",
      "text/plain": [
       "<Figure size 640x480 with 1 Axes>"
      ]
     },
     "metadata": {},
     "output_type": "display_data"
    }
   ],
   "source": [
    "# Subplot 3: Distribution des prix\n",
    "plt.subplot(1, 3, 3)\n",
    "plt.hist(y_test, bins=30, alpha=0.7, label='Prix réels', color='blue')\n",
    "plt.hist(best_pred, bins=30, alpha=0.7, label='Prix prédits', color='red')\n",
    "plt.xlabel('Prix (€/jour)')\n",
    "plt.ylabel('Fréquence')\n",
    "plt.title('Distribution des Prix')\n",
    "plt.legend()\n",
    "\n",
    "plt.tight_layout()\n",
    "plt.show()"
   ]
  },
  {
   "cell_type": "markdown",
   "id": "472c535b",
   "metadata": {},
   "source": [
    "### Sauvegarde du modèle pour l'API"
   ]
  },
  {
   "cell_type": "code",
   "execution_count": 74,
   "id": "e79fedf9",
   "metadata": {},
   "outputs": [],
   "source": [
    "model_data = {\n",
    "    'model': best_model,\n",
    "    'model_name': best_model_name,\n",
    "    'feature_names': X_encoded.columns.tolist(),\n",
    "    'categorical_columns': categorical_columns,\n",
    "    'metrics': {\n",
    "        'r2': models_results[best_model_name]['r2'],\n",
    "        'rmse': models_results[best_model_name]['rmse'],\n",
    "        'mae': models_results[best_model_name]['mae']\n",
    "    }\n",
    "}"
   ]
  },
  {
   "cell_type": "code",
   "execution_count": 75,
   "id": "8a96f323",
   "metadata": {},
   "outputs": [
    {
     "name": "stdout",
     "output_type": "stream",
     "text": [
      "✅ Modèle sauvegardé dans 'getaround_pricing_model.pkl'\n"
     ]
    }
   ],
   "source": [
    "# Sauvegarder avec joblib\n",
    "joblib.dump(model_data, 'getaround_pricing_model.pkl')\n",
    "print(\"✅ Modèle sauvegardé dans 'getaround_pricing_model.pkl'\")"
   ]
  },
  {
   "cell_type": "markdown",
   "id": "b5d7a91e",
   "metadata": {},
   "source": [
    "### Fonction de prédiction"
   ]
  },
  {
   "cell_type": "code",
   "execution_count": 76,
   "id": "9119442c",
   "metadata": {},
   "outputs": [],
   "source": [
    "def predict_rental_price(model_data, input_features):\n",
    "    \"\"\"\n",
    "    Fonction pour prédire le prix d'une location GetAround\n",
    "    \n",
    "    Args:\n",
    "        model_data: dictionnaire avec le modèle et les métadonnées\n",
    "        input_features: dictionnaire avec les caractéristiques de la voiture\n",
    "    \n",
    "    Returns:\n",
    "        prix prédit en €/jour\n",
    "    \"\"\"\n",
    "    # Créer un DataFrame avec les features d'entrée\n",
    "    input_df = pd.DataFrame([input_features])\n",
    "    \n",
    "    # Appliquer le même preprocessing\n",
    "    input_df_encoded = pd.get_dummies(\n",
    "        input_df, \n",
    "        columns=model_data['categorical_columns'], \n",
    "        drop_first=True\n",
    "    )\n",
    "    \n",
    "    # Réaligner avec les colonnes du modèle\n",
    "    for col in model_data['feature_names']:\n",
    "        if col not in input_df_encoded.columns:\n",
    "            input_df_encoded[col] = 0\n",
    "    \n",
    "    # Réorganiser les colonnes dans le bon ordre\n",
    "    input_df_encoded = input_df_encoded[model_data['feature_names']]\n",
    "    \n",
    "    # Prédiction\n",
    "    prediction = model_data['model'].predict(input_df_encoded)[0]\n",
    "    \n",
    "    return round(prediction, 2)"
   ]
  },
  {
   "cell_type": "markdown",
   "id": "be88818d",
   "metadata": {},
   "source": [
    "#### Exemple de prédiction"
   ]
  },
  {
   "cell_type": "code",
   "execution_count": 77,
   "id": "8ce44c29",
   "metadata": {},
   "outputs": [
    {
     "name": "stdout",
     "output_type": "stream",
     "text": [
      "Prix prédit pour cette voiture: 150.74€/jour\n"
     ]
    }
   ],
   "source": [
    "# Charger le modèle sauvegardé\n",
    "loaded_model_data = joblib.load('getaround_pricing_model.pkl')\n",
    "\n",
    "# Exemple de voiture à prédire\n",
    "example_car = {\n",
    "    'model_key': 'Citroën',\n",
    "    'mileage': 50000,\n",
    "    'engine_power': 120,\n",
    "    'fuel': 'diesel',\n",
    "    'paint_color': 'black',\n",
    "    'car_type': 'convertible',\n",
    "    'private_parking_available': True,\n",
    "    'has_gps': True,\n",
    "    'has_air_conditioning': True,\n",
    "    'automatic_car': False,\n",
    "    'has_getaround_connect': True,\n",
    "    'has_speed_regulator': True,\n",
    "    'winter_tires': False\n",
    "}\n",
    "\n",
    "try:\n",
    "    predicted_price = predict_rental_price(loaded_model_data, example_car)\n",
    "    print(f\"Prix prédit pour cette voiture: {predicted_price}€/jour\")\n",
    "except Exception as e:\n",
    "    print(f\"Erreur lors de la prédiction: {e}\")"
   ]
  },
  {
   "cell_type": "code",
   "execution_count": 78,
   "id": "ca5bb5ac",
   "metadata": {},
   "outputs": [
    {
     "name": "stdout",
     "output_type": "stream",
     "text": [
      "\n",
      "============================================================\n",
      "🎯 RÉSUMÉ FINAL - GETAROUND PRICING MODEL\n",
      "============================================================\n",
      "📊 Dataset: 4843 voitures, 15 variables\n",
      "🤖 Meilleur modèle: Random Forest (Optimized)\n",
      "📈 Performance:\n",
      "   • R²: 0.7333\n",
      "   • RMSE: 16.76€\n",
      "   • MAE: 10.66€\n",
      "💾 Modèle sauvegardé: getaround_pricing_model.pkl\n",
      "🔌 Prêt pour l'API Flask/FastAPI\n",
      "============================================================\n"
     ]
    }
   ],
   "source": [
    "# 9. RÉSUMÉ FINAL\n",
    "print(\"\\n\" + \"=\" * 60)\n",
    "print(\"🎯 RÉSUMÉ FINAL - GETAROUND PRICING MODEL\")\n",
    "print(\"=\" * 60)\n",
    "print(f\"📊 Dataset: {data.shape[0]} voitures, {data.shape[1]} variables\")\n",
    "print(f\"🤖 Meilleur modèle: {best_model_name}\")\n",
    "print(f\"📈 Performance:\")\n",
    "print(f\"   • R²: {models_results[best_model_name]['r2']:.4f}\")\n",
    "print(f\"   • RMSE: {models_results[best_model_name]['rmse']:.2f}€\")\n",
    "print(f\"   • MAE: {models_results[best_model_name]['mae']:.2f}€\")\n",
    "print(f\"💾 Modèle sauvegardé: getaround_pricing_model.pkl\")\n",
    "print(f\"🔌 Prêt pour l'API Flask/FastAPI\")\n",
    "print(\"=\" * 60)"
   ]
  }
 ],
 "metadata": {
  "kernelspec": {
   "display_name": "base",
   "language": "python",
   "name": "python3"
  },
  "language_info": {
   "codemirror_mode": {
    "name": "ipython",
    "version": 3
   },
   "file_extension": ".py",
   "mimetype": "text/x-python",
   "name": "python",
   "nbconvert_exporter": "python",
   "pygments_lexer": "ipython3",
   "version": "3.12.7"
  }
 },
 "nbformat": 4,
 "nbformat_minor": 5
}
